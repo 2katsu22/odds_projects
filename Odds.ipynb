{
 "cells": [
  {
   "cell_type": "code",
   "execution_count": 39,
   "metadata": {},
   "outputs": [],
   "source": [
    "class all_bets:\n",
    "    def __init__(self, odds, bet):\n",
    "        self.odds = odds\n",
    "        self.bet = bet\n",
    "    def win(self):\n",
    "        pass\n",
    "\n",
    "    def total(self):\n",
    "        pass"
   ]
  },
  {
   "cell_type": "code",
   "execution_count": 40,
   "metadata": {},
   "outputs": [
    {
     "name": "stdout",
     "output_type": "stream",
     "text": [
      "Amount to Win: 113.63636363636363\n",
      "Total Payout: 363.6363636363636\n"
     ]
    }
   ],
   "source": [
    "class american(all_bets):\n",
    "    def __init__(self, odds, bet):\n",
    "        super().__init__(odds, bet)\n",
    "    \n",
    "    def win(self):\n",
    "        if self.odds > 0:\n",
    "            return (1 + (self.odds /100)) * self.bet- self.bet\n",
    "        else:\n",
    "            return (1 - (100/ self.odds)) * self.bet - self.bet\n",
    "    \n",
    "    def total(self):\n",
    "        if self.odds > 0:\n",
    "            return (1 + (self.odds /100)) * self.bet\n",
    "        else:\n",
    "            return (1 - (100/ self.odds)) * self.bet\n",
    "        \n",
    "\n",
    "demo1 = american(-220, 250)\n",
    "print('Amount to Win:', demo1.win())\n",
    "print('Total Payout:', demo1.total())\n"
   ]
  },
  {
   "cell_type": "code",
   "execution_count": 41,
   "metadata": {},
   "outputs": [
    {
     "name": "stdout",
     "output_type": "stream",
     "text": [
      "Amount to Win: 330.0\n",
      "Total Payout: 480.0\n"
     ]
    }
   ],
   "source": [
    "class decimal(all_bets):\n",
    "    def __init__(self, odds, bet):\n",
    "        super().__init__(odds, bet)\n",
    "    \n",
    "    def win(self):\n",
    "        return((self.odds * self.bet) - self.bet)\n",
    "    \n",
    "    def total(self):\n",
    "        return(self.odds * self.bet)\n",
    "\n",
    "demo2 = decimal(3.2, 150)\n",
    "print('Amount to Win:', demo2.win())\n",
    "print('Total Payout:', demo2.total())\n"
   ]
  },
  {
   "cell_type": "code",
   "execution_count": 42,
   "metadata": {},
   "outputs": [
    {
     "name": "stdout",
     "output_type": "stream",
     "text": [
      "Amount to Win: 80.0\n",
      "Total Payout: 180.0\n"
     ]
    }
   ],
   "source": [
    "class fractional(all_bets):\n",
    "    def __init__(self, odds, bet):\n",
    "        self.odds = odds\n",
    "        self.bet = bet\n",
    "    \n",
    "    def win(self):\n",
    "        return(((self.odds + 1) * self.bet) - self.bet)\n",
    "\n",
    "    def total(self):\n",
    "        return((self.odds + 1) * self.bet)\n",
    "\n",
    "demo3 = fractional(4/5, 100)\n",
    "print('Amount to Win:', demo3.win())\n",
    "print('Total Payout:', demo3.total())"
   ]
  },
  {
   "cell_type": "code",
   "execution_count": 43,
   "metadata": {},
   "outputs": [
    {
     "name": "stdout",
     "output_type": "stream",
     "text": [
      "Implied Odds: 50.0 %\n"
     ]
    }
   ],
   "source": [
    "class implied_odds(all_bets):\n",
    "    def __init__(self, odds):\n",
    "        self.odds = odds\n",
    "    \n",
    "    def percentage(self):\n",
    "        if self.odds > 0:\n",
    "            return(100/ (self.odds + 100) * 100)\n",
    "        else:\n",
    "            return(\n",
    "                (self.odds * -1)/\n",
    "                ((self.odds * -1) + 100) \n",
    "                * 100)\n",
    "\n",
    "demo4 = implied_odds(-100)\n",
    "print('Implied Odds:', demo4.percentage(), '%')\n"
   ]
  }
 ],
 "metadata": {
  "kernelspec": {
   "display_name": "Python 3.9.13",
   "language": "python",
   "name": "python3"
  },
  "language_info": {
   "codemirror_mode": {
    "name": "ipython",
    "version": 3
   },
   "file_extension": ".py",
   "mimetype": "text/x-python",
   "name": "python",
   "nbconvert_exporter": "python",
   "pygments_lexer": "ipython3",
   "version": "3.9.13"
  },
  "orig_nbformat": 4,
  "vscode": {
   "interpreter": {
    "hash": "213cb763036d6ea9925ff981e1e8a777ca58cd2a3c1b568dd619ed11f323fbbb"
   }
  }
 },
 "nbformat": 4,
 "nbformat_minor": 2
}
